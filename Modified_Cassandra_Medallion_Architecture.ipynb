{
  "cells": [
    {
      "cell_type": "markdown",
      "id": "b5c7f99b",
      "metadata": {
        "id": "b5c7f99b"
      },
      "source": [
        "# Cassandra Medallion Architecture: Bronze, Silver, and Gold Tables"
      ]
    },
    {
      "cell_type": "code",
      "source": [
        "# Install the Cassandra python driver\n",
        "!pip install cassandra-driver"
      ],
      "metadata": {
        "colab": {
          "base_uri": "https://localhost:8080/"
        },
        "id": "vNcl_lKs1AHm",
        "outputId": "6d01654e-f1f7-4251-e277-58d8c610a838"
      },
      "id": "vNcl_lKs1AHm",
      "execution_count": 3,
      "outputs": [
        {
          "output_type": "stream",
          "name": "stdout",
          "text": [
            "Requirement already satisfied: cassandra-driver in /usr/local/lib/python3.10/dist-packages (3.29.2)\n",
            "Requirement already satisfied: geomet<0.3,>=0.1 in /usr/local/lib/python3.10/dist-packages (from cassandra-driver) (0.2.1.post1)\n",
            "Requirement already satisfied: click in /usr/local/lib/python3.10/dist-packages (from geomet<0.3,>=0.1->cassandra-driver) (8.1.7)\n",
            "Requirement already satisfied: six in /usr/local/lib/python3.10/dist-packages (from geomet<0.3,>=0.1->cassandra-driver) (1.16.0)\n"
          ]
        }
      ]
    },
    {
      "cell_type": "code",
      "execution_count": 4,
      "id": "eab69484",
      "metadata": {
        "colab": {
          "base_uri": "https://localhost:8080/"
        },
        "id": "eab69484",
        "outputId": "e5b22efa-56ad-4adb-854b-af22a0888b0c"
      },
      "outputs": [
        {
          "output_type": "stream",
          "name": "stderr",
          "text": [
            "WARNING:cassandra.cluster:Downgrading core protocol version from 66 to 65 for 0df53a15-8f91-45b7-adcc-3e610a803a35-us-east1.db.astra.datastax.com:29042:0669df0f-031f-383e-b452-67a9679bbc6a. To avoid this, it is best practice to explicitly set Cluster(protocol_version) to the version supported by your cluster. http://datastax.github.io/python-driver/api/cassandra/cluster.html#cassandra.cluster.Cluster.protocol_version\n",
            "WARNING:cassandra.cluster:Downgrading core protocol version from 65 to 5 for 0df53a15-8f91-45b7-adcc-3e610a803a35-us-east1.db.astra.datastax.com:29042:0669df0f-031f-383e-b452-67a9679bbc6a. To avoid this, it is best practice to explicitly set Cluster(protocol_version) to the version supported by your cluster. http://datastax.github.io/python-driver/api/cassandra/cluster.html#cassandra.cluster.Cluster.protocol_version\n",
            "WARNING:cassandra.cluster:Downgrading core protocol version from 5 to 4 for 0df53a15-8f91-45b7-adcc-3e610a803a35-us-east1.db.astra.datastax.com:29042:0669df0f-031f-383e-b452-67a9679bbc6a. To avoid this, it is best practice to explicitly set Cluster(protocol_version) to the version supported by your cluster. http://datastax.github.io/python-driver/api/cassandra/cluster.html#cassandra.cluster.Cluster.protocol_version\n"
          ]
        },
        {
          "output_type": "stream",
          "name": "stdout",
          "text": [
            "Connected to Cassandra!\n"
          ]
        }
      ],
      "source": [
        "\n",
        "# Import necessary libraries\n",
        "from cassandra.cluster import Cluster\n",
        "from cassandra.auth import PlainTextAuthProvider\n",
        "import pandas as pd\n",
        "import uuid\n",
        "import json\n",
        "\n",
        "# Connect to Cassandra\n",
        "def connect_to_cassandra():\n",
        "    cloud_config = {\n",
        "        'secure_connect_bundle': 'secure-connect-cassandra-assignment-big-data.zip'\n",
        "    }\n",
        "    with open(\"cassandra_assignment_big_data-token.json\") as f:\n",
        "        secrets = json.load(f)\n",
        "\n",
        "    CLIENT_ID = secrets[\"clientId\"]\n",
        "    CLIENT_SECRET = secrets[\"secret\"]\n",
        "\n",
        "    auth_provider = PlainTextAuthProvider(CLIENT_ID, CLIENT_SECRET)\n",
        "    cluster = Cluster(cloud=cloud_config, auth_provider=auth_provider)\n",
        "    session = cluster.connect()\n",
        "    return session\n",
        "\n",
        "session = connect_to_cassandra()\n",
        "print(\"Connected to Cassandra!\")\n"
      ]
    },
    {
      "cell_type": "markdown",
      "id": "90471053",
      "metadata": {
        "id": "90471053"
      },
      "source": [
        "## Bronze Table: Raw Data Ingestion"
      ]
    },
    {
      "cell_type": "code",
      "execution_count": 7,
      "id": "44c1b1f6",
      "metadata": {
        "colab": {
          "base_uri": "https://localhost:8080/"
        },
        "id": "44c1b1f6",
        "outputId": "ee3598f9-be42-496c-8525-14927ce215a9"
      },
      "outputs": [
        {
          "output_type": "stream",
          "name": "stdout",
          "text": [
            "                         Region           Country  Item Type Sales Channel  \\\n",
            "0            Sub-Saharan Africa      South Africa     Fruits       Offline   \n",
            "1  Middle East and North Africa           Morocco    Clothes        Online   \n",
            "2         Australia and Oceania  Papua New Guinea       Meat       Offline   \n",
            "3            Sub-Saharan Africa          Djibouti    Clothes       Offline   \n",
            "4                        Europe          Slovakia  Beverages       Offline   \n",
            "\n",
            "  Order Priority  Order Date   Order ID   Ship Date  UnitsSold  UnitPrice  \\\n",
            "0              M   7/27/2012  443368995   7/28/2012       1593       9.33   \n",
            "1              M   9/14/2013  667593514  10/19/2013       4611     109.28   \n",
            "2              M   5/15/2015  940995585    6/4/2015        360     421.89   \n",
            "3              H   5/17/2017  880811536    7/2/2017        562     109.28   \n",
            "4              L  10/26/2016  174590194   12/4/2016       3973      47.45   \n",
            "\n",
            "   UnitCost  TotalRevenue  TotalCost  TotalProfit  \n",
            "0      6.92      14862.69   11023.56      3839.13  \n",
            "1     35.84     503890.08  165258.24    338631.84  \n",
            "2    364.69     151880.40  131288.40     20592.00  \n",
            "3     35.84      61415.36   20142.08     41273.28  \n",
            "4     31.79     188518.85  126301.67     62217.18  \n",
            "Bronze table populated with raw data.\n"
          ]
        }
      ],
      "source": [
        "\n",
        "# Load the dataset\n",
        "url = \"https://raw.githubusercontent.com/gchandra10/filestorage/main/sales_100.csv\"\n",
        "df = pd.read_csv(url)\n",
        "print(df.head())\n",
        "\n",
        "# Create the Bronze table\n",
        "session.execute(\"\"\"\n",
        "CREATE TABLE IF NOT EXISTS medallionarchitecture.bronze_sales (\n",
        "    id UUID PRIMARY KEY,\n",
        "    Region text,\n",
        "    Country text,\n",
        "    Item_Type text,\n",
        "    Sales_Channel text,\n",
        "    Order_Priority text,\n",
        "    Order_Date text,\n",
        "    Order_ID int,\n",
        "    Units_Sold int,\n",
        "    Unit_Price float,\n",
        "    Unit_Cost float,\n",
        "    Total_Revenue float,\n",
        "    Total_Cost float,\n",
        "    Total_Profit float\n",
        ");\n",
        "\"\"\")\n",
        "\n",
        "# Insert raw data into the Bronze table\n",
        "insert_query = session.prepare(\"\"\"\n",
        "    INSERT INTO medallionarchitecture.bronze_sales (id, Region, Country, Item_Type, Sales_Channel, Order_Priority, Order_Date, Order_ID, Units_Sold, Unit_Price, Unit_Cost, Total_Revenue, Total_Cost, Total_Profit)\n",
        "    VALUES (?, ?, ?, ?, ?, ?, ?, ?, ?, ?, ?, ?, ?, ?)\n",
        "\"\"\")\n",
        "\n",
        "for _, row in df.iterrows():\n",
        "    session.execute(insert_query, (\n",
        "        uuid.uuid4(), row['Region'], row['Country'], row['Item Type'], row['Sales Channel'],\n",
        "        row['Order Priority'], row['Order Date'], row['Order ID'], row['UnitsSold'],\n",
        "        row['UnitPrice'], row['UnitCost'], row['TotalRevenue'], row['TotalCost'],\n",
        "        row['TotalProfit']\n",
        "    ))\n",
        "\n",
        "print(\"Bronze table populated with raw data.\")\n"
      ]
    },
    {
      "cell_type": "markdown",
      "id": "b72b9805",
      "metadata": {
        "id": "b72b9805"
      },
      "source": [
        "## Silver Table: Data Cleaning and Structuring"
      ]
    },
    {
      "cell_type": "code",
      "execution_count": 10,
      "id": "ad89376d",
      "metadata": {
        "colab": {
          "base_uri": "https://localhost:8080/"
        },
        "id": "ad89376d",
        "outputId": "533feb48-518c-40a2-abcc-429cb9e00140"
      },
      "outputs": [
        {
          "output_type": "stream",
          "name": "stdout",
          "text": [
            "                         Region           Country  Item Type Sales Channel  \\\n",
            "0            Sub-Saharan Africa      South Africa     Fruits       Offline   \n",
            "1  Middle East and North Africa           Morocco    Clothes        Online   \n",
            "2         Australia and Oceania  Papua New Guinea       Meat       Offline   \n",
            "3            Sub-Saharan Africa          Djibouti    Clothes       Offline   \n",
            "4                        Europe          Slovakia  Beverages       Offline   \n",
            "\n",
            "  Order Priority  Order Date   Order ID   Ship Date  UnitsSold  UnitPrice  \\\n",
            "0              M   7/27/2012  443368995   7/28/2012       1593       9.33   \n",
            "1              M   9/14/2013  667593514  10/19/2013       4611     109.28   \n",
            "2              M   5/15/2015  940995585    6/4/2015        360     421.89   \n",
            "3              H   5/17/2017  880811536    7/2/2017        562     109.28   \n",
            "4              L  10/26/2016  174590194   12/4/2016       3973      47.45   \n",
            "\n",
            "   UnitCost  TotalRevenue  TotalCost  TotalProfit  \n",
            "0      6.92      14862.69   11023.56      3839.13  \n",
            "1     35.84     503890.08  165258.24    338631.84  \n",
            "2    364.69     151880.40  131288.40     20592.00  \n",
            "3     35.84      61415.36   20142.08     41273.28  \n",
            "4     31.79     188518.85  126301.67     62217.18  \n",
            "Silver table populated with cleaned data.\n"
          ]
        }
      ],
      "source": [
        "\n",
        "# Perform data cleaning\n",
        "df_cleaned = df.drop_duplicates()\n",
        "print(df_cleaned.head())\n",
        "\n",
        "# Create the Silver table\n",
        "session.execute(\"\"\"\n",
        "CREATE TABLE IF NOT EXISTS medallionarchitecture.silver_sales (\n",
        "    id UUID PRIMARY KEY,\n",
        "    Region text,\n",
        "    Country text,\n",
        "    Item_Type text,\n",
        "    Sales_Channel text,\n",
        "    Order_Priority text,\n",
        "    Order_Date text,\n",
        "    Order_ID int,\n",
        "    Units_Sold int,\n",
        "    Unit_Price float,\n",
        "    Unit_Cost float,\n",
        "    Total_Revenue float,\n",
        "    Total_Cost float,\n",
        "    Total_Profit float\n",
        ");\n",
        "\"\"\")\n",
        "\n",
        "# Insert cleaned data into the Silver table\n",
        "for _, row in df_cleaned.iterrows():\n",
        "    session.execute(insert_query, (\n",
        "        uuid.uuid4(), row['Region'], row['Country'], row['Item Type'], row['Sales Channel'],\n",
        "        row['Order Priority'], row['Order Date'], row['Order ID'], row['UnitsSold'],\n",
        "        row['UnitPrice'], row['UnitCost'], row['TotalRevenue'], row['TotalCost'],\n",
        "        row['TotalProfit']\n",
        "    ))\n",
        "\n",
        "print(\"Silver table populated with cleaned data.\")\n"
      ]
    },
    {
      "cell_type": "markdown",
      "id": "4a87319f",
      "metadata": {
        "id": "4a87319f"
      },
      "source": [
        "## Gold Tables: Aggregated Analytics"
      ]
    },
    {
      "cell_type": "code",
      "execution_count": 13,
      "id": "887d8455",
      "metadata": {
        "colab": {
          "base_uri": "https://localhost:8080/"
        },
        "id": "887d8455",
        "outputId": "7f8fe3b3-d196-4a8b-d951-d3034d845bac"
      },
      "outputs": [
        {
          "output_type": "stream",
          "name": "stdout",
          "text": [
            "Gold table 1 populated with regional aggregates.\n"
          ]
        }
      ],
      "source": [
        "\n",
        "# Create and populate Gold Table 1: Aggregated by Region\n",
        "region_df = df_cleaned.groupby('Region').sum()[['TotalRevenue', 'TotalProfit']].reset_index()\n",
        "\n",
        "session.execute(\"\"\"\n",
        "CREATE TABLE IF NOT EXISTS medallionarchitecture.gold_sales_region (\n",
        "    Region text PRIMARY KEY,\n",
        "    Total_Revenue float,\n",
        "    Total_Profit float\n",
        ");\n",
        "\"\"\")\n",
        "\n",
        "for _, row in region_df.iterrows():\n",
        "    session.execute(session.prepare(\"\"\"\n",
        "        INSERT INTO medallionarchitecture.gold_sales_region (Region, Total_Revenue, Total_Profit) VALUES (?, ?, ?)\n",
        "    \"\"\"), (row['Region'], row['TotalRevenue'], row['TotalProfit']))\n",
        "\n",
        "print(\"Gold table 1 populated with regional aggregates.\")\n"
      ]
    },
    {
      "cell_type": "code",
      "execution_count": 17,
      "id": "a9c74c2b",
      "metadata": {
        "colab": {
          "base_uri": "https://localhost:8080/"
        },
        "id": "a9c74c2b",
        "outputId": "c6d18812-b89b-4282-f99b-e13848ef524c"
      },
      "outputs": [
        {
          "output_type": "stream",
          "name": "stdout",
          "text": [
            "          Country  TotalProfit  TotalRevenue\n",
            "0         Algeria   1681149.03    4227286.80\n",
            "1         Estonia   1653322.48    6666661.52\n",
            "2  Czech Republic   1592127.59    4003440.40\n",
            "3       Nicaragua   1568333.69    5944506.05\n",
            "4        Tanzania   1396869.91    3555764.47\n",
            "Gold table 2 populated with top 5 profitable countries.\n"
          ]
        }
      ],
      "source": [
        "# Check the column names\n",
        "# print(df_cleaned.columns)\n",
        "\n",
        "# Ensure column names match\n",
        "if 'Country' in df_cleaned.columns and 'TotalProfit' in df_cleaned.columns and 'TotalRevenue' in df_cleaned.columns:\n",
        "    # Group by Country, aggregate total revenue and profit, and sort by TotalProfit\n",
        "    top_countries_df = (\n",
        "        df_cleaned.groupby('Country')\n",
        "        .agg({'TotalProfit': 'sum', 'TotalRevenue': 'sum'})\n",
        "        .sort_values('TotalProfit', ascending=False)\n",
        "        .head(5)\n",
        "        .reset_index()\n",
        "    )\n",
        "    print(top_countries_df)\n",
        "\n",
        "    # Create Gold Table 2 in Cassandra\n",
        "    session.execute(\"\"\"\n",
        "    CREATE TABLE IF NOT EXISTS medallionarchitecture.gold_sales_top_countries (\n",
        "        Country text PRIMARY KEY,\n",
        "        Total_Revenue float,\n",
        "        Total_Profit float\n",
        "    );\n",
        "    \"\"\")\n",
        "\n",
        "    # Insert data into the Gold Table\n",
        "    for _, row in top_countries_df.iterrows():\n",
        "        session.execute(session.prepare(\"\"\"\n",
        "            INSERT INTO medallionarchitecture.gold_sales_top_countries (Country, Total_Revenue, Total_Profit)\n",
        "            VALUES (?, ?, ?)\n",
        "        \"\"\"), (row['Country'], row['TotalRevenue'], row['TotalProfit']))\n",
        "\n",
        "    print(\"Gold table 2 populated with top 5 profitable countries.\")\n",
        "else:\n",
        "    print(\"Column names do not match. Check column names in df_cleaned.\")\n"
      ]
    },
    {
      "cell_type": "code",
      "execution_count": 24,
      "id": "6721b620",
      "metadata": {
        "colab": {
          "base_uri": "https://localhost:8080/"
        },
        "id": "6721b620",
        "outputId": "2b020806-e61e-46b5-b03e-8df9d1fb5ca3"
      },
      "outputs": [
        {
          "output_type": "stream",
          "name": "stdout",
          "text": [
            "      Month  TotalRevenue\n",
            "0   2010-04    2585495.22\n",
            "1   2010-06      44224.20\n",
            "2   2010-08    2884921.59\n",
            "3   2010-10     628499.36\n",
            "4   2010-11    3470056.40\n",
            "5   2010-12    4159723.67\n",
            "6   2011-01     746767.01\n",
            "7   2011-02    4227286.80\n",
            "8   2011-03    8331209.41\n",
            "9   2011-05    3263260.80\n",
            "10  2011-06    1973257.58\n",
            "11  2011-07     289426.40\n",
            "12  2011-08      69946.72\n",
            "13  2011-09    7082993.73\n",
            "14  2011-10    4100669.37\n",
            "15  2011-11    6907926.41\n",
            "16  2012-02     217368.45\n",
            "17  2012-06    6552552.08\n",
            "18  2012-07    3100161.89\n",
            "19  2012-09     188951.87\n",
            "20  2012-10    3256076.68\n",
            "21  2012-11     603225.60\n",
            "22  2013-01    1234388.61\n",
            "23  2013-05     868465.40\n",
            "24  2013-09     933620.29\n",
            "25  2013-11      53507.55\n",
            "26  2013-12    4205821.41\n",
            "27  2014-02    4081224.66\n",
            "28  2014-03    4003440.40\n",
            "29  2014-06    1205441.93\n",
            "30  2014-07    9280963.30\n",
            "31  2014-10      89558.67\n",
            "32  2014-11     434357.30\n",
            "33  2015-02    4493491.09\n",
            "34  2015-04    2536801.10\n",
            "35  2015-05     605694.00\n",
            "36  2015-06     626742.81\n",
            "37  2015-08    1784241.80\n",
            "38  2015-09    2101183.20\n",
            "39  2015-10    5206491.57\n",
            "40  2015-11     944631.00\n",
            "41  2015-12    2604084.63\n",
            "42  2016-01    5793560.68\n",
            "43  2016-02    3897266.50\n",
            "44  2016-03    5161824.15\n",
            "45  2016-05    4944263.92\n",
            "46  2016-07     802989.44\n",
            "47  2016-08     130261.76\n",
            "48  2016-09     231345.76\n",
            "49  2016-10     528379.65\n",
            "50  2016-11     900296.39\n",
            "51  2016-12    3780403.39\n",
            "52  2017-03    4283459.46\n",
            "53  2017-04    2196359.34\n",
            "54  2017-05      61415.36\n",
            "Gold table 3 populated with monthly sales trends.\n"
          ]
        }
      ],
      "source": [
        "# print(df_cleaned.columns)\n",
        "\n",
        "# Strip whitespace from column names\n",
        "df_cleaned.columns = df_cleaned.columns.str.strip()\n",
        "\n",
        "# Check if 'Order Date' exists\n",
        "if 'Order Date' in df_cleaned.columns:\n",
        "    # Convert 'Order Date' to datetime\n",
        "    df_cleaned['Order Date'] = pd.to_datetime(df_cleaned['Order Date'], errors='coerce')\n",
        "\n",
        "    # Log and exclude rows with invalid dates\n",
        "    if df_cleaned['Order Date'].isna().sum() > 0:\n",
        "        print(f\"Warning: Some rows have invalid dates: {df_cleaned[df_cleaned['Order Date'].isna()]}\")\n",
        "        df_cleaned = df_cleaned.dropna(subset=['Order Date'])\n",
        "\n",
        "    # Add 'Month' column for monthly aggregation\n",
        "    df_cleaned['Month'] = df_cleaned['Order Date'].dt.strftime('%Y-%m')\n",
        "\n",
        "    # Ensure 'TotalRevenue' exists and is numeric\n",
        "    if 'TotalRevenue' in df_cleaned.columns:\n",
        "        # Group by 'Month' and calculate Total Revenue\n",
        "        monthly_df = df_cleaned.groupby('Month')[['TotalRevenue']].sum().reset_index()\n",
        "        print(monthly_df)\n",
        "\n",
        "        # Create the Gold Table for Monthly Sales Trends\n",
        "        session.execute(\"\"\"\n",
        "        CREATE TABLE IF NOT EXISTS medallionarchitecture.gold_sales_monthly (\n",
        "            Month text PRIMARY KEY,\n",
        "            TotalRevenue float\n",
        "        );\n",
        "        \"\"\")\n",
        "\n",
        "        # Insert data into the Gold Table\n",
        "        for _, row in monthly_df.iterrows():\n",
        "            session.execute(session.prepare(\"\"\"\n",
        "                INSERT INTO medallionarchitecture.gold_sales_monthly (Month, TotalRevenue) VALUES (?, ?)\n",
        "            \"\"\"), (row['Month'], row['TotalRevenue']))\n",
        "\n",
        "        print(\"Gold table 3 populated with monthly sales trends.\")\n",
        "    else:\n",
        "        print(\"Error: 'TotalRevenue' column not found in the dataset.\")\n",
        "else:\n",
        "    print(\"Error: 'Order Date' column not found in the dataset.\")\n"
      ]
    },
    {
      "cell_type": "code",
      "source": [
        "# Query the Gold Table 3 and inspect rows\n",
        "rows = session.execute(\"SELECT * FROM medallionarchitecture.gold_sales_monthly;\")\n",
        "\n",
        "# Access attributes based on inspection\n",
        "# Use attribute access (row.month) or integer indexing (row[0]) to access row elements\n",
        "for row in rows:\n",
        "    # Access columns using their actual case as returned by Cassandra:\n",
        "    print(f\"Month: {row.month}, Total Revenue: {row.totalrevenue}\")"
      ],
      "metadata": {
        "colab": {
          "base_uri": "https://localhost:8080/"
        },
        "id": "Hau5uKc75WQm",
        "outputId": "7a68a9af-311f-480a-a595-7724552dba8e"
      },
      "id": "Hau5uKc75WQm",
      "execution_count": 39,
      "outputs": [
        {
          "output_type": "stream",
          "name": "stdout",
          "text": [
            "Month: 2013-09, Total Revenue: 933620.3125\n",
            "Month: 2010-12, Total Revenue: 4159723.75\n",
            "Month: 2012-09, Total Revenue: 188951.875\n",
            "Month: 2016-09, Total Revenue: 231345.765625\n",
            "Month: 2016-02, Total Revenue: 3897266.5\n",
            "Month: 2015-06, Total Revenue: 626742.8125\n",
            "Month: 2016-11, Total Revenue: 900296.375\n",
            "Month: 2017-04, Total Revenue: 2196359.25\n",
            "Month: 2011-01, Total Revenue: 746767.0\n",
            "Month: 2015-09, Total Revenue: 2101183.25\n",
            "Month: 2016-08, Total Revenue: 130261.7578125\n",
            "Month: 2014-11, Total Revenue: 434357.3125\n",
            "Month: 2013-05, Total Revenue: 868465.375\n",
            "Month: 2013-12, Total Revenue: 4205821.5\n",
            "Month: 2011-07, Total Revenue: 289426.40625\n",
            "Month: 2011-11, Total Revenue: 6907926.5\n",
            "Month: 2011-08, Total Revenue: 69946.71875\n",
            "Month: 2015-12, Total Revenue: 2604084.75\n",
            "Month: 2011-06, Total Revenue: 1973257.625\n",
            "Month: 2014-03, Total Revenue: 4003440.5\n",
            "Month: 2015-04, Total Revenue: 2536801.0\n",
            "Month: 2010-11, Total Revenue: 3470056.5\n",
            "Month: 2012-07, Total Revenue: 3100162.0\n",
            "Month: 2012-11, Total Revenue: 603225.625\n",
            "Month: 2014-06, Total Revenue: 1205441.875\n",
            "Month: 2016-03, Total Revenue: 5161824.0\n",
            "Month: 2015-08, Total Revenue: 1784241.75\n",
            "Month: 2015-05, Total Revenue: 605694.0\n",
            "Month: 2017-05, Total Revenue: 61415.359375\n",
            "Month: 2010-10, Total Revenue: 628499.375\n",
            "Month: 2010-04, Total Revenue: 2585495.25\n",
            "Month: 2012-10, Total Revenue: 3256076.75\n",
            "Month: 2015-10, Total Revenue: 5206491.5\n",
            "Month: 2012-02, Total Revenue: 217368.453125\n",
            "Month: 2011-02, Total Revenue: 4227287.0\n",
            "Month: 2010-06, Total Revenue: 44224.19921875\n",
            "Month: 2011-09, Total Revenue: 7082993.5\n",
            "Month: 2017-03, Total Revenue: 4283459.5\n",
            "Month: 2010-08, Total Revenue: 2884921.5\n",
            "Month: 2014-10, Total Revenue: 89558.671875\n",
            "Month: 2016-05, Total Revenue: 4944264.0\n",
            "Month: 2011-05, Total Revenue: 3263260.75\n",
            "Month: 2013-11, Total Revenue: 53507.55078125\n",
            "Month: 2015-02, Total Revenue: 4493491.0\n",
            "Month: 2011-03, Total Revenue: 8331209.5\n",
            "Month: 2012-06, Total Revenue: 6552552.0\n",
            "Month: 2013-01, Total Revenue: 1234388.625\n",
            "Month: 2011-10, Total Revenue: 4100669.25\n",
            "Month: 2014-07, Total Revenue: 9280963.0\n",
            "Month: 2016-01, Total Revenue: 5793560.5\n",
            "Month: 2016-07, Total Revenue: 802989.4375\n",
            "Month: 2016-12, Total Revenue: 3780403.5\n",
            "Month: 2014-02, Total Revenue: 4081224.75\n",
            "Month: 2015-11, Total Revenue: 944631.0\n",
            "Month: 2016-10, Total Revenue: 528379.625\n"
          ]
        }
      ]
    }
  ],
  "metadata": {
    "kernelspec": {
      "display_name": "Python 3",
      "language": "python",
      "name": "python3"
    },
    "language_info": {
      "codemirror_mode": {
        "name": "ipython",
        "version": 3
      },
      "file_extension": ".py",
      "mimetype": "text/x-python",
      "name": "python",
      "nbconvert_exporter": "python",
      "pygments_lexer": "ipython3",
      "version": "3.12.2"
    },
    "colab": {
      "provenance": []
    }
  },
  "nbformat": 4,
  "nbformat_minor": 5
}